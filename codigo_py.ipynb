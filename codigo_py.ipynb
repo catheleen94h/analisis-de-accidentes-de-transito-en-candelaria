{
 "cells": [
  {
   "cell_type": "code",
   "execution_count": 2,
   "id": "a0faee1b",
   "metadata": {},
   "outputs": [],
   "source": [
    "import pandas as pd"
   ]
  },
  {
   "cell_type": "code",
   "execution_count": null,
   "id": "51bac590",
   "metadata": {},
   "outputs": [],
   "source": [
    "#lectura del archivo CSV, dataset\n",
    "\n",
    "df = pd.read_csv('Accidentalidad_Vial_Municipio_de_Candelaria__Valle._20250618.csv')"
   ]
  },
  {
   "cell_type": "code",
   "execution_count": 4,
   "id": "d314429a",
   "metadata": {},
   "outputs": [
    {
     "data": {
      "text/html": [
       "<div>\n",
       "<style scoped>\n",
       "    .dataframe tbody tr th:only-of-type {\n",
       "        vertical-align: middle;\n",
       "    }\n",
       "\n",
       "    .dataframe tbody tr th {\n",
       "        vertical-align: top;\n",
       "    }\n",
       "\n",
       "    .dataframe thead th {\n",
       "        text-align: right;\n",
       "    }\n",
       "</style>\n",
       "<table border=\"1\" class=\"dataframe\">\n",
       "  <thead>\n",
       "    <tr style=\"text-align: right;\">\n",
       "      <th></th>\n",
       "      <th>CLASE DE ACCIDENTE</th>\n",
       "      <th>GRAVEDAD</th>\n",
       "      <th>VIAS</th>\n",
       "      <th>CORREGIMIENTO</th>\n",
       "      <th>DÍA SEMANA</th>\n",
       "      <th>FECHA DE OCURRECIA</th>\n",
       "      <th>HORA OCURRENCIA</th>\n",
       "    </tr>\n",
       "  </thead>\n",
       "  <tbody>\n",
       "    <tr>\n",
       "      <th>0</th>\n",
       "      <td>CHOQUE</td>\n",
       "      <td>DAÑOS</td>\n",
       "      <td>CALI-CANDELARIA</td>\n",
       "      <td>VILLAGORGONA</td>\n",
       "      <td>VIERNES</td>\n",
       "      <td>2021-01-01</td>\n",
       "      <td>1:40:00 AM</td>\n",
       "    </tr>\n",
       "    <tr>\n",
       "      <th>1</th>\n",
       "      <td>CHOQUE</td>\n",
       "      <td>MUERTOS</td>\n",
       "      <td>CALI-CANDELARIA</td>\n",
       "      <td>JUANCHITO</td>\n",
       "      <td>VIERNES</td>\n",
       "      <td>2021-01-01</td>\n",
       "      <td>3:00:00 PM</td>\n",
       "    </tr>\n",
       "    <tr>\n",
       "      <th>2</th>\n",
       "      <td>CHOQUE</td>\n",
       "      <td>DAÑOS</td>\n",
       "      <td>CALI-CANDELARIA</td>\n",
       "      <td>JUANCHITO</td>\n",
       "      <td>DOMINGO</td>\n",
       "      <td>2021-01-03</td>\n",
       "      <td>5:08:00 PM</td>\n",
       "    </tr>\n",
       "    <tr>\n",
       "      <th>3</th>\n",
       "      <td>CHOQUE</td>\n",
       "      <td>DAÑOS</td>\n",
       "      <td>CALI-CANDELARIA</td>\n",
       "      <td>VILLAGORGONA</td>\n",
       "      <td>DOMINGO</td>\n",
       "      <td>2021-01-03</td>\n",
       "      <td>12:45:00 PM</td>\n",
       "    </tr>\n",
       "    <tr>\n",
       "      <th>4</th>\n",
       "      <td>CHOQUE</td>\n",
       "      <td>DAÑOS</td>\n",
       "      <td>CALI-CANDELARIA</td>\n",
       "      <td>EL CARMELO</td>\n",
       "      <td>DOMINGO</td>\n",
       "      <td>2021-01-03</td>\n",
       "      <td>7:00:00 AM</td>\n",
       "    </tr>\n",
       "  </tbody>\n",
       "</table>\n",
       "</div>"
      ],
      "text/plain": [
       "  CLASE DE ACCIDENTE GRAVEDAD             VIAS CORREGIMIENTO DÍA SEMANA  \\\n",
       "0             CHOQUE    DAÑOS  CALI-CANDELARIA  VILLAGORGONA    VIERNES   \n",
       "1             CHOQUE  MUERTOS  CALI-CANDELARIA     JUANCHITO    VIERNES   \n",
       "2             CHOQUE    DAÑOS  CALI-CANDELARIA     JUANCHITO    DOMINGO   \n",
       "3             CHOQUE    DAÑOS  CALI-CANDELARIA  VILLAGORGONA    DOMINGO   \n",
       "4             CHOQUE    DAÑOS  CALI-CANDELARIA    EL CARMELO    DOMINGO   \n",
       "\n",
       "  FECHA DE OCURRECIA HORA OCURRENCIA  \n",
       "0         2021-01-01      1:40:00 AM  \n",
       "1         2021-01-01      3:00:00 PM  \n",
       "2         2021-01-03      5:08:00 PM  \n",
       "3         2021-01-03     12:45:00 PM  \n",
       "4         2021-01-03      7:00:00 AM  "
      ]
     },
     "execution_count": 4,
     "metadata": {},
     "output_type": "execute_result"
    }
   ],
   "source": [
    "df.head()"
   ]
  },
  {
   "cell_type": "code",
   "execution_count": 5,
   "id": "a11ad8cf",
   "metadata": {},
   "outputs": [
    {
     "name": "stdout",
     "output_type": "stream",
     "text": [
      "<class 'pandas.core.frame.DataFrame'>\n",
      "RangeIndex: 1004 entries, 0 to 1003\n",
      "Data columns (total 7 columns):\n",
      " #   Column              Non-Null Count  Dtype \n",
      "---  ------              --------------  ----- \n",
      " 0   CLASE DE ACCIDENTE  1001 non-null   object\n",
      " 1   GRAVEDAD            1004 non-null   object\n",
      " 2   VIAS                1004 non-null   object\n",
      " 3   CORREGIMIENTO       1004 non-null   object\n",
      " 4   DÍA SEMANA          991 non-null    object\n",
      " 5   FECHA DE OCURRECIA  1004 non-null   object\n",
      " 6   HORA OCURRENCIA     991 non-null    object\n",
      "dtypes: object(7)\n",
      "memory usage: 55.0+ KB\n"
     ]
    }
   ],
   "source": [
    "#nos da la informacion sobre el dataset leido\n",
    "df.info()\n",
    "#variables categóricas son de tipo object"
   ]
  },
  {
   "cell_type": "code",
   "execution_count": 157,
   "id": "6b27cb5d",
   "metadata": {},
   "outputs": [
    {
     "data": {
      "text/plain": [
       "CLASE DE ACCIDENTE     3\n",
       "GRAVEDAD               0\n",
       "VIAS                   0\n",
       "CORREGIMIENTO          0\n",
       "DÍA SEMANA            13\n",
       "FECHA DE OCURRECIA     0\n",
       "HORA OCURRENCIA       13\n",
       "dtype: int64"
      ]
     },
     "execution_count": 157,
     "metadata": {},
     "output_type": "execute_result"
    }
   ],
   "source": [
    "#detectar valores vacios o nulos\n",
    "df.isnull().sum()"
   ]
  },
  {
   "cell_type": "code",
   "execution_count": 6,
   "id": "ccabf2ac",
   "metadata": {},
   "outputs": [
    {
     "name": "stdout",
     "output_type": "stream",
     "text": [
      "Número de filas duplicadas: 3\n"
     ]
    }
   ],
   "source": [
    "# contar registros duplicados\n",
    "num_duplicados = df.duplicated().sum()\n",
    "\n",
    "print(f\"Número de filas duplicadas: {num_duplicados}\")"
   ]
  },
  {
   "cell_type": "code",
   "execution_count": 7,
   "id": "ea9137c6",
   "metadata": {},
   "outputs": [],
   "source": [
    "# elimincaion de datos duplicados\n",
    "\n",
    "df=df.drop_duplicates()"
   ]
  },
  {
   "cell_type": "code",
   "execution_count": 8,
   "id": "5a70b404",
   "metadata": {},
   "outputs": [
    {
     "name": "stdout",
     "output_type": "stream",
     "text": [
      "<class 'pandas.core.frame.DataFrame'>\n",
      "Index: 1001 entries, 0 to 1003\n",
      "Data columns (total 7 columns):\n",
      " #   Column              Non-Null Count  Dtype \n",
      "---  ------              --------------  ----- \n",
      " 0   CLASE DE ACCIDENTE  998 non-null    object\n",
      " 1   GRAVEDAD            1001 non-null   object\n",
      " 2   VIAS                1001 non-null   object\n",
      " 3   CORREGIMIENTO       1001 non-null   object\n",
      " 4   DÍA SEMANA          988 non-null    object\n",
      " 5   FECHA DE OCURRECIA  1001 non-null   object\n",
      " 6   HORA OCURRENCIA     988 non-null    object\n",
      "dtypes: object(7)\n",
      "memory usage: 62.6+ KB\n"
     ]
    }
   ],
   "source": [
    "#consulto de nuevo\n",
    "df.info()"
   ]
  },
  {
   "cell_type": "code",
   "execution_count": 9,
   "id": "8363046d",
   "metadata": {},
   "outputs": [
    {
     "data": {
      "text/plain": [
       "CLASE DE ACCIDENTE     3\n",
       "GRAVEDAD               0\n",
       "VIAS                   0\n",
       "CORREGIMIENTO          0\n",
       "DÍA SEMANA            13\n",
       "FECHA DE OCURRECIA     0\n",
       "HORA OCURRENCIA       13\n",
       "dtype: int64"
      ]
     },
     "execution_count": 9,
     "metadata": {},
     "output_type": "execute_result"
    }
   ],
   "source": [
    "#detectar valores vacios o nulos\n",
    "df.isnull().sum()"
   ]
  },
  {
   "cell_type": "code",
   "execution_count": 10,
   "id": "9798b4ae",
   "metadata": {},
   "outputs": [],
   "source": [
    "# Diccionario para traducir los días al español\n",
    "dias_es = {\n",
    "    'Monday': 'LUNES',\n",
    "    'Tuesday': 'MARTES',\n",
    "    'Wednesday': 'MIERCOLES',\n",
    "    'Thursday': 'JUEVES',\n",
    "    'Friday': 'VIERNES',\n",
    "    'Saturday': 'SABADO',\n",
    "    'Sunday': 'DOMINGO'\n",
    "}\n",
    "\n",
    "# nos aseguramos de que la columna esté en formato fecha\n",
    "df['FECHA DE OCURRECIA'] = pd.to_datetime(df['FECHA DE OCURRECIA'], errors='coerce')\n",
    "\n",
    "# Extraer día en inglés y traducirlo al español\n",
    "dias_en = df['FECHA DE OCURRECIA'].dt.day_name()\n",
    "dias_traducidos = dias_en.map(dias_es)\n",
    "\n",
    "# Rellenar los valores nulos en \"DÍA SEMANA\"\n",
    "df['DÍA SEMANA'] = df['DÍA SEMANA'].fillna(dias_traducidos)"
   ]
  },
  {
   "cell_type": "code",
   "execution_count": 11,
   "id": "22c4e269",
   "metadata": {},
   "outputs": [
    {
     "data": {
      "text/plain": [
       "CLASE DE ACCIDENTE     3\n",
       "GRAVEDAD               0\n",
       "VIAS                   0\n",
       "CORREGIMIENTO          0\n",
       "DÍA SEMANA             0\n",
       "FECHA DE OCURRECIA     1\n",
       "HORA OCURRENCIA       13\n",
       "dtype: int64"
      ]
     },
     "execution_count": 11,
     "metadata": {},
     "output_type": "execute_result"
    }
   ],
   "source": [
    "#detectar valores vacios o nulos\n",
    "df.isnull().sum()"
   ]
  },
  {
   "cell_type": "code",
   "execution_count": 12,
   "id": "4dd369a1",
   "metadata": {},
   "outputs": [
    {
     "name": "stderr",
     "output_type": "stream",
     "text": [
      "C:\\Users\\Katerine\\AppData\\Local\\Temp\\ipykernel_6980\\3962197913.py:2: FutureWarning: A value is trying to be set on a copy of a DataFrame or Series through chained assignment using an inplace method.\n",
      "The behavior will change in pandas 3.0. This inplace method will never work because the intermediate object on which we are setting values always behaves as a copy.\n",
      "\n",
      "For example, when doing 'df[col].method(value, inplace=True)', try using 'df.method({col: value}, inplace=True)' or df[col] = df[col].method(value) instead, to perform the operation inplace on the original object.\n",
      "\n",
      "\n",
      "  df['FECHA DE OCURRECIA'].fillna(pd.to_datetime('2022-05-17'), inplace=True)\n"
     ]
    }
   ],
   "source": [
    "# Rellenar la fecha nula con '2022-05-17'\n",
    "df['FECHA DE OCURRECIA'].fillna(pd.to_datetime('2022-05-17'), inplace=True)"
   ]
  },
  {
   "cell_type": "code",
   "execution_count": 13,
   "id": "66966593",
   "metadata": {},
   "outputs": [
    {
     "data": {
      "text/plain": [
       "CLASE DE ACCIDENTE     3\n",
       "GRAVEDAD               0\n",
       "VIAS                   0\n",
       "CORREGIMIENTO          0\n",
       "DÍA SEMANA             0\n",
       "FECHA DE OCURRECIA     0\n",
       "HORA OCURRENCIA       13\n",
       "dtype: int64"
      ]
     },
     "execution_count": 13,
     "metadata": {},
     "output_type": "execute_result"
    }
   ],
   "source": [
    "#detectar valores vacios o nulos\n",
    "df.isnull().sum()"
   ]
  },
  {
   "cell_type": "code",
   "execution_count": 14,
   "id": "e4b692b3",
   "metadata": {},
   "outputs": [
    {
     "name": "stderr",
     "output_type": "stream",
     "text": [
      "C:\\Users\\Katerine\\AppData\\Local\\Temp\\ipykernel_6980\\1981894131.py:2: FutureWarning: A value is trying to be set on a copy of a DataFrame or Series through chained assignment using an inplace method.\n",
      "The behavior will change in pandas 3.0. This inplace method will never work because the intermediate object on which we are setting values always behaves as a copy.\n",
      "\n",
      "For example, when doing 'df[col].method(value, inplace=True)', try using 'df.method({col: value}, inplace=True)' or df[col] = df[col].method(value) instead, to perform the operation inplace on the original object.\n",
      "\n",
      "\n",
      "  df['CLASE DE ACCIDENTE'].fillna('Desconocido', inplace=True)\n"
     ]
    }
   ],
   "source": [
    "#rellenar valor clase de accidente\n",
    "df['CLASE DE ACCIDENTE'].fillna('Desconocido', inplace=True)"
   ]
  },
  {
   "cell_type": "code",
   "execution_count": 15,
   "id": "df55daa5",
   "metadata": {},
   "outputs": [
    {
     "data": {
      "text/plain": [
       "CLASE DE ACCIDENTE     0\n",
       "GRAVEDAD               0\n",
       "VIAS                   0\n",
       "CORREGIMIENTO          0\n",
       "DÍA SEMANA             0\n",
       "FECHA DE OCURRECIA     0\n",
       "HORA OCURRENCIA       13\n",
       "dtype: int64"
      ]
     },
     "execution_count": 15,
     "metadata": {},
     "output_type": "execute_result"
    }
   ],
   "source": [
    "#detectar valores vacios o nulos\n",
    "df.isnull().sum()"
   ]
  },
  {
   "cell_type": "code",
   "execution_count": 16,
   "id": "cb6e2b34",
   "metadata": {},
   "outputs": [
    {
     "name": "stdout",
     "output_type": "stream",
     "text": [
      "<class 'pandas.core.frame.DataFrame'>\n",
      "Index: 1001 entries, 0 to 1003\n",
      "Data columns (total 7 columns):\n",
      " #   Column              Non-Null Count  Dtype         \n",
      "---  ------              --------------  -----         \n",
      " 0   CLASE DE ACCIDENTE  1001 non-null   object        \n",
      " 1   GRAVEDAD            1001 non-null   object        \n",
      " 2   VIAS                1001 non-null   object        \n",
      " 3   CORREGIMIENTO       1001 non-null   object        \n",
      " 4   DÍA SEMANA          1001 non-null   object        \n",
      " 5   FECHA DE OCURRECIA  1001 non-null   datetime64[ns]\n",
      " 6   HORA OCURRENCIA     988 non-null    object        \n",
      "dtypes: datetime64[ns](1), object(6)\n",
      "memory usage: 62.6+ KB\n"
     ]
    }
   ],
   "source": [
    "#consulto de nuevo\n",
    "df.info()"
   ]
  },
  {
   "cell_type": "code",
   "execution_count": 17,
   "id": "6e11281c",
   "metadata": {},
   "outputs": [
    {
     "name": "stderr",
     "output_type": "stream",
     "text": [
      "C:\\Users\\Katerine\\AppData\\Local\\Temp\\ipykernel_6980\\1806016207.py:3: FutureWarning: A value is trying to be set on a copy of a DataFrame or Series through chained assignment using an inplace method.\n",
      "The behavior will change in pandas 3.0. This inplace method will never work because the intermediate object on which we are setting values always behaves as a copy.\n",
      "\n",
      "For example, when doing 'df[col].method(value, inplace=True)', try using 'df.method({col: value}, inplace=True)' or df[col] = df[col].method(value) instead, to perform the operation inplace on the original object.\n",
      "\n",
      "\n",
      "  df['HORA OCURRENCIA'].fillna('Desconocida', inplace=True)\n"
     ]
    }
   ],
   "source": [
    "#Vamos a llenar los valores vacios de hora de ocurrencia con desconocido\n",
    "\n",
    "df['HORA OCURRENCIA'].fillna('Desconocida', inplace=True)"
   ]
  },
  {
   "cell_type": "code",
   "execution_count": 18,
   "id": "3fd12a5a",
   "metadata": {},
   "outputs": [],
   "source": [
    "# ELIMINAR FECHA 1989, 10/12/2002, 11/10/2011\n",
    "df = df[df['FECHA DE OCURRECIA'] != '2002-12-10']\n",
    "df = df[df['FECHA DE OCURRECIA'] != '2011-10-11']\n",
    "df = df[df['FECHA DE OCURRECIA'] != '1989-10-17']"
   ]
  },
  {
   "cell_type": "code",
   "execution_count": 19,
   "id": "d3990643",
   "metadata": {},
   "outputs": [
    {
     "name": "stdout",
     "output_type": "stream",
     "text": [
      "<class 'pandas.core.frame.DataFrame'>\n",
      "Index: 998 entries, 0 to 1003\n",
      "Data columns (total 7 columns):\n",
      " #   Column              Non-Null Count  Dtype         \n",
      "---  ------              --------------  -----         \n",
      " 0   CLASE DE ACCIDENTE  998 non-null    object        \n",
      " 1   GRAVEDAD            998 non-null    object        \n",
      " 2   VIAS                998 non-null    object        \n",
      " 3   CORREGIMIENTO       998 non-null    object        \n",
      " 4   DÍA SEMANA          998 non-null    object        \n",
      " 5   FECHA DE OCURRECIA  998 non-null    datetime64[ns]\n",
      " 6   HORA OCURRENCIA     998 non-null    object        \n",
      "dtypes: datetime64[ns](1), object(6)\n",
      "memory usage: 62.4+ KB\n"
     ]
    }
   ],
   "source": [
    "#consulto de nuevo\n",
    "df.info()"
   ]
  },
  {
   "cell_type": "code",
   "execution_count": 209,
   "id": "b4db5c86",
   "metadata": {},
   "outputs": [
    {
     "name": "stdout",
     "output_type": "stream",
     "text": [
      "<class 'pandas.core.frame.DataFrame'>\n",
      "Index: 998 entries, 0 to 1003\n",
      "Data columns (total 8 columns):\n",
      " #   Column               Non-Null Count  Dtype         \n",
      "---  ------               --------------  -----         \n",
      " 0   CLASE_DE_ACCIDENTE   998 non-null    object        \n",
      " 1   GRAVEDAD             998 non-null    object        \n",
      " 2   VIAS                 998 non-null    object        \n",
      " 3   CORREGIMIENTO        998 non-null    object        \n",
      " 4   DÍA_SEMANA           998 non-null    object        \n",
      " 5   FECHA_DE_OCURRENCIA  998 non-null    datetime64[ns]\n",
      " 6   TIPO_DIA             998 non-null    object        \n",
      " 7   HORA_OCURRENCIA      985 non-null    object        \n",
      "dtypes: datetime64[ns](1), object(7)\n",
      "memory usage: 70.2+ KB\n"
     ]
    }
   ],
   "source": [
    "#consulto de nuevo\n",
    "df.info()"
   ]
  },
  {
   "cell_type": "code",
   "execution_count": 174,
   "id": "cc1279a0",
   "metadata": {},
   "outputs": [],
   "source": [
    "df.to_csv('Accidentalidad_candelaria.csv', index=False, encoding='utf-8')"
   ]
  },
  {
   "cell_type": "code",
   "execution_count": 20,
   "id": "e8271d0c",
   "metadata": {},
   "outputs": [
    {
     "data": {
      "text/html": [
       "<div>\n",
       "<style scoped>\n",
       "    .dataframe tbody tr th:only-of-type {\n",
       "        vertical-align: middle;\n",
       "    }\n",
       "\n",
       "    .dataframe tbody tr th {\n",
       "        vertical-align: top;\n",
       "    }\n",
       "\n",
       "    .dataframe thead th {\n",
       "        text-align: right;\n",
       "    }\n",
       "</style>\n",
       "<table border=\"1\" class=\"dataframe\">\n",
       "  <thead>\n",
       "    <tr style=\"text-align: right;\">\n",
       "      <th></th>\n",
       "      <th>CLASE DE ACCIDENTE</th>\n",
       "      <th>GRAVEDAD</th>\n",
       "      <th>VIAS</th>\n",
       "      <th>CORREGIMIENTO</th>\n",
       "      <th>DÍA SEMANA</th>\n",
       "      <th>FECHA DE OCURRECIA</th>\n",
       "      <th>HORA OCURRENCIA</th>\n",
       "    </tr>\n",
       "  </thead>\n",
       "  <tbody>\n",
       "    <tr>\n",
       "      <th>0</th>\n",
       "      <td>CHOQUE</td>\n",
       "      <td>DAÑOS</td>\n",
       "      <td>CALI-CANDELARIA</td>\n",
       "      <td>VILLAGORGONA</td>\n",
       "      <td>VIERNES</td>\n",
       "      <td>2021-01-01</td>\n",
       "      <td>1:40:00 AM</td>\n",
       "    </tr>\n",
       "    <tr>\n",
       "      <th>1</th>\n",
       "      <td>CHOQUE</td>\n",
       "      <td>MUERTOS</td>\n",
       "      <td>CALI-CANDELARIA</td>\n",
       "      <td>JUANCHITO</td>\n",
       "      <td>VIERNES</td>\n",
       "      <td>2021-01-01</td>\n",
       "      <td>3:00:00 PM</td>\n",
       "    </tr>\n",
       "    <tr>\n",
       "      <th>2</th>\n",
       "      <td>CHOQUE</td>\n",
       "      <td>DAÑOS</td>\n",
       "      <td>CALI-CANDELARIA</td>\n",
       "      <td>JUANCHITO</td>\n",
       "      <td>DOMINGO</td>\n",
       "      <td>2021-01-03</td>\n",
       "      <td>5:08:00 PM</td>\n",
       "    </tr>\n",
       "    <tr>\n",
       "      <th>3</th>\n",
       "      <td>CHOQUE</td>\n",
       "      <td>DAÑOS</td>\n",
       "      <td>CALI-CANDELARIA</td>\n",
       "      <td>VILLAGORGONA</td>\n",
       "      <td>DOMINGO</td>\n",
       "      <td>2021-01-03</td>\n",
       "      <td>12:45:00 PM</td>\n",
       "    </tr>\n",
       "    <tr>\n",
       "      <th>4</th>\n",
       "      <td>CHOQUE</td>\n",
       "      <td>DAÑOS</td>\n",
       "      <td>CALI-CANDELARIA</td>\n",
       "      <td>EL CARMELO</td>\n",
       "      <td>DOMINGO</td>\n",
       "      <td>2021-01-03</td>\n",
       "      <td>7:00:00 AM</td>\n",
       "    </tr>\n",
       "  </tbody>\n",
       "</table>\n",
       "</div>"
      ],
      "text/plain": [
       "  CLASE DE ACCIDENTE GRAVEDAD             VIAS CORREGIMIENTO DÍA SEMANA  \\\n",
       "0             CHOQUE    DAÑOS  CALI-CANDELARIA  VILLAGORGONA    VIERNES   \n",
       "1             CHOQUE  MUERTOS  CALI-CANDELARIA     JUANCHITO    VIERNES   \n",
       "2             CHOQUE    DAÑOS  CALI-CANDELARIA     JUANCHITO    DOMINGO   \n",
       "3             CHOQUE    DAÑOS  CALI-CANDELARIA  VILLAGORGONA    DOMINGO   \n",
       "4             CHOQUE    DAÑOS  CALI-CANDELARIA    EL CARMELO    DOMINGO   \n",
       "\n",
       "  FECHA DE OCURRECIA HORA OCURRENCIA  \n",
       "0         2021-01-01      1:40:00 AM  \n",
       "1         2021-01-01      3:00:00 PM  \n",
       "2         2021-01-03      5:08:00 PM  \n",
       "3         2021-01-03     12:45:00 PM  \n",
       "4         2021-01-03      7:00:00 AM  "
      ]
     },
     "execution_count": 20,
     "metadata": {},
     "output_type": "execute_result"
    }
   ],
   "source": [
    "df.head()"
   ]
  },
  {
   "cell_type": "code",
   "execution_count": 176,
   "id": "405c8fed",
   "metadata": {},
   "outputs": [
    {
     "name": "stdout",
     "output_type": "stream",
     "text": [
      "CORREGIMIENTO\n",
      "JUANCHITO              265\n",
      "CANDELARIA             223\n",
      "VILLAGORGONA           134\n",
      "EL CARMELO              96\n",
      "EL CABUYAL              63\n",
      "EL LAURO                50\n",
      "POBLADO CAMPESTRE       49\n",
      "LA REGINA               24\n",
      "EL ARENAL               19\n",
      "DOMINGO LARGO           14\n",
      "EL CRUCERO              12\n",
      "CABECERA-CANDELARIA     10\n",
      "SAN JOAQUIN              7\n",
      "RIO EL TRIUNFO           3\n",
      "PROVENZA                 3\n",
      "EL TIPLE                 3\n",
      "LA COLOMBIANA            3\n",
      "TURIN                    3\n",
      "PARRAGA                  3\n",
      "EL UVAL                  2\n",
      "LA NUBIA                 2\n",
      "LA VICTORIA              2\n",
      "LA ARGENTINA             1\n",
      "ING. MAYAGUEZ            1\n",
      "PUEBLITO VIEJO           1\n",
      "LA GLORIA                1\n",
      "PUERTA AMARILLA          1\n",
      "LA ALIANZA               1\n",
      "BUCHITOLO                1\n",
      "SAN JUAN                 1\n",
      "ZAINERAS                 1\n",
      "EL TRIUNFO               1\n",
      "Name: count, dtype: int64\n"
     ]
    }
   ],
   "source": [
    "# corregimientos con mayor accidenalidad\n",
    "conteo_corregimientos = df['CORREGIMIENTO'].value_counts()\n",
    "print(conteo_corregimientos)"
   ]
  },
  {
   "cell_type": "code",
   "execution_count": 177,
   "id": "dac9755c",
   "metadata": {},
   "outputs": [
    {
     "name": "stdout",
     "output_type": "stream",
     "text": [
      "GRAVEDAD             DAÑOS  HERIDOS  MUERTOS\n",
      "CORREGIMIENTO                               \n",
      "BUCHITOLO                0        1        0\n",
      "CABECERA-CANDELARIA      0       10        0\n",
      "CANDELARIA             101      107       15\n",
      "DOMINGO LARGO            5        9        0\n",
      "EL ARENAL                2       10        7\n",
      "EL CABUYAL              23       29       11\n",
      "EL CARMELO              23       60       13\n",
      "EL CRUCERO               0       11        1\n",
      "EL LAURO                22       22        6\n",
      "EL TIPLE                 1        2        0\n",
      "EL TRIUNFO               0        1        0\n",
      "EL UVAL                  1        0        1\n",
      "ING. MAYAGUEZ            0        1        0\n",
      "JUANCHITO              106      146       13\n",
      "LA ALIANZA               0        1        0\n",
      "LA ARGENTINA             0        0        1\n",
      "LA COLOMBIANA            0        3        0\n",
      "LA GLORIA                0        1        0\n",
      "LA NUBIA                 2        0        0\n",
      "LA REGINA                9       11        4\n",
      "LA VICTORIA              0        2        0\n",
      "PARRAGA                  0        1        2\n",
      "POBLADO CAMPESTRE       17       30        2\n",
      "PROVENZA                 0        2        1\n",
      "PUEBLITO VIEJO           0        1        0\n",
      "PUERTA AMARILLA          0        0        1\n",
      "RIO EL TRIUNFO           1        2        0\n",
      "SAN JOAQUIN              2        5        0\n",
      "SAN JUAN                 0        0        1\n",
      "TURIN                    1        2        0\n",
      "VILLAGORGONA            53       75        6\n",
      "ZAINERAS                 0        1        0\n"
     ]
    }
   ],
   "source": [
    "# cantidad de accidentes  y gravedad por corregimiento\n",
    "tabla_relacion = pd.crosstab(df['CORREGIMIENTO'], df['GRAVEDAD'])\n",
    "print(tabla_relacion)"
   ]
  },
  {
   "cell_type": "code",
   "execution_count": 178,
   "id": "02ce9b93",
   "metadata": {},
   "outputs": [
    {
     "name": "stdout",
     "output_type": "stream",
     "text": [
      "VIAS\n",
      "CALI-CANDELARIA             445\n",
      "VILLARICA-PALMIRA           145\n",
      "CANDELARIA-CALI              98\n",
      "CANDELARIA                   68\n",
      "CALI-FLORIDA                 47\n",
      "                           ... \n",
      "CARRERA 36 CON CALLE 16C      1\n",
      "CARRERA 10                    1\n",
      "EL CARMELO - TIPLE            1\n",
      "CARRERA 35D CON CALLE 14      1\n",
      "CALLE 17 CR 12A               1\n",
      "Name: count, Length: 69, dtype: int64\n"
     ]
    }
   ],
   "source": [
    "# via mas peligrosa o con mas accidentes\n",
    "accidentes_por_via = df['VIAS'].value_counts()\n",
    "print(accidentes_por_via)"
   ]
  },
  {
   "cell_type": "code",
   "execution_count": 21,
   "id": "43bdd203",
   "metadata": {},
   "outputs": [
    {
     "name": "stdout",
     "output_type": "stream",
     "text": [
      "  DÍA SEMANA  Cantidad de accidentes\n",
      "0  MIERCOLES                     168\n",
      "1    DOMINGO                     163\n",
      "2     MARTES                     147\n",
      "3    VIERNES                     138\n",
      "4      LUNES                     133\n",
      "5     SABADO                     129\n",
      "6     JUEVES                     120\n"
     ]
    }
   ],
   "source": [
    "# Contar accidentes por día de la semana\n",
    "accidentes_por_dia = df['DÍA SEMANA'].value_counts().reset_index()\n",
    "\n",
    "# Cambiar nombres de columnas para que sea una tabla clara\n",
    "accidentes_por_dia.columns = ['DÍA SEMANA', 'Cantidad de accidentes']\n",
    "\n",
    "# Ordenar la tabla por cantidad de accidentes descendente\n",
    "accidentes_por_dia = accidentes_por_dia.sort_values(by='Cantidad de accidentes', ascending=False)\n",
    "\n",
    "print(accidentes_por_dia)"
   ]
  },
  {
   "cell_type": "code",
   "execution_count": 22,
   "id": "e4a6ca2c",
   "metadata": {},
   "outputs": [
    {
     "name": "stdout",
     "output_type": "stream",
     "text": [
      "     Tipo de día  Cantidad de accidentes\n",
      "0   Entre semana                     706\n",
      "1  Fin de semana                     292\n"
     ]
    }
   ],
   "source": [
    "# Definir días de fin de semana\n",
    "fines_de_semana = ['SABADO', 'DOMINGO']\n",
    "\n",
    "# Crear una nueva columna para indicar si es fin de semana o entre semana\n",
    "df['TIPO_DIA'] = df['DÍA SEMANA'].apply(lambda x: 'Fin de semana' if x in fines_de_semana else 'Entre semana')\n",
    "\n",
    "# Contar accidentes según tipo de día\n",
    "accidentes_por_tipo_dia = df['TIPO_DIA'].value_counts().reset_index()\n",
    "accidentes_por_tipo_dia.columns = ['Tipo de día', 'Cantidad de accidentes']\n",
    "\n",
    "print(accidentes_por_tipo_dia)\n"
   ]
  },
  {
   "cell_type": "code",
   "execution_count": 23,
   "id": "c0eebe7e",
   "metadata": {},
   "outputs": [
    {
     "data": {
      "text/html": [
       "<div>\n",
       "<style scoped>\n",
       "    .dataframe tbody tr th:only-of-type {\n",
       "        vertical-align: middle;\n",
       "    }\n",
       "\n",
       "    .dataframe tbody tr th {\n",
       "        vertical-align: top;\n",
       "    }\n",
       "\n",
       "    .dataframe thead th {\n",
       "        text-align: right;\n",
       "    }\n",
       "</style>\n",
       "<table border=\"1\" class=\"dataframe\">\n",
       "  <thead>\n",
       "    <tr style=\"text-align: right;\">\n",
       "      <th></th>\n",
       "      <th>CLASE DE ACCIDENTE</th>\n",
       "      <th>GRAVEDAD</th>\n",
       "      <th>VIAS</th>\n",
       "      <th>CORREGIMIENTO</th>\n",
       "      <th>DÍA SEMANA</th>\n",
       "      <th>FECHA DE OCURRECIA</th>\n",
       "      <th>HORA OCURRENCIA</th>\n",
       "      <th>TIPO_DIA</th>\n",
       "    </tr>\n",
       "  </thead>\n",
       "  <tbody>\n",
       "    <tr>\n",
       "      <th>0</th>\n",
       "      <td>CHOQUE</td>\n",
       "      <td>DAÑOS</td>\n",
       "      <td>CALI-CANDELARIA</td>\n",
       "      <td>VILLAGORGONA</td>\n",
       "      <td>VIERNES</td>\n",
       "      <td>2021-01-01</td>\n",
       "      <td>1:40:00 AM</td>\n",
       "      <td>Entre semana</td>\n",
       "    </tr>\n",
       "    <tr>\n",
       "      <th>1</th>\n",
       "      <td>CHOQUE</td>\n",
       "      <td>MUERTOS</td>\n",
       "      <td>CALI-CANDELARIA</td>\n",
       "      <td>JUANCHITO</td>\n",
       "      <td>VIERNES</td>\n",
       "      <td>2021-01-01</td>\n",
       "      <td>3:00:00 PM</td>\n",
       "      <td>Entre semana</td>\n",
       "    </tr>\n",
       "    <tr>\n",
       "      <th>2</th>\n",
       "      <td>CHOQUE</td>\n",
       "      <td>DAÑOS</td>\n",
       "      <td>CALI-CANDELARIA</td>\n",
       "      <td>JUANCHITO</td>\n",
       "      <td>DOMINGO</td>\n",
       "      <td>2021-01-03</td>\n",
       "      <td>5:08:00 PM</td>\n",
       "      <td>Fin de semana</td>\n",
       "    </tr>\n",
       "    <tr>\n",
       "      <th>3</th>\n",
       "      <td>CHOQUE</td>\n",
       "      <td>DAÑOS</td>\n",
       "      <td>CALI-CANDELARIA</td>\n",
       "      <td>VILLAGORGONA</td>\n",
       "      <td>DOMINGO</td>\n",
       "      <td>2021-01-03</td>\n",
       "      <td>12:45:00 PM</td>\n",
       "      <td>Fin de semana</td>\n",
       "    </tr>\n",
       "    <tr>\n",
       "      <th>4</th>\n",
       "      <td>CHOQUE</td>\n",
       "      <td>DAÑOS</td>\n",
       "      <td>CALI-CANDELARIA</td>\n",
       "      <td>EL CARMELO</td>\n",
       "      <td>DOMINGO</td>\n",
       "      <td>2021-01-03</td>\n",
       "      <td>7:00:00 AM</td>\n",
       "      <td>Fin de semana</td>\n",
       "    </tr>\n",
       "  </tbody>\n",
       "</table>\n",
       "</div>"
      ],
      "text/plain": [
       "  CLASE DE ACCIDENTE GRAVEDAD             VIAS CORREGIMIENTO DÍA SEMANA  \\\n",
       "0             CHOQUE    DAÑOS  CALI-CANDELARIA  VILLAGORGONA    VIERNES   \n",
       "1             CHOQUE  MUERTOS  CALI-CANDELARIA     JUANCHITO    VIERNES   \n",
       "2             CHOQUE    DAÑOS  CALI-CANDELARIA     JUANCHITO    DOMINGO   \n",
       "3             CHOQUE    DAÑOS  CALI-CANDELARIA  VILLAGORGONA    DOMINGO   \n",
       "4             CHOQUE    DAÑOS  CALI-CANDELARIA    EL CARMELO    DOMINGO   \n",
       "\n",
       "  FECHA DE OCURRECIA HORA OCURRENCIA       TIPO_DIA  \n",
       "0         2021-01-01      1:40:00 AM   Entre semana  \n",
       "1         2021-01-01      3:00:00 PM   Entre semana  \n",
       "2         2021-01-03      5:08:00 PM  Fin de semana  \n",
       "3         2021-01-03     12:45:00 PM  Fin de semana  \n",
       "4         2021-01-03      7:00:00 AM  Fin de semana  "
      ]
     },
     "execution_count": 23,
     "metadata": {},
     "output_type": "execute_result"
    }
   ],
   "source": [
    "df.head()"
   ]
  },
  {
   "cell_type": "code",
   "execution_count": 24,
   "id": "f113f877",
   "metadata": {},
   "outputs": [],
   "source": [
    "import pandas as pd\n",
    "from datetime import datetime, timedelta\n",
    "\n",
    "# 1. Separar hora y AM/PM (acepta 1 o 2 dígitos de hora)\n",
    "df[['SOLO_HORA', 'TURNO']] = df['HORA OCURRENCIA'].str.extract(r'(\\d{1,2}:\\d{2}:\\d{2})\\s*(AM|PM)', expand=True)\n",
    "\n",
    "# 2. Función segura para convertir a hora militar\n",
    "def convertir_a_militar(hora_str, turno):\n",
    "    if pd.isna(hora_str) or pd.isna(turno):\n",
    "        return None  # o puedes usar '00:00:00' si prefieres\n",
    "    hora_dt = datetime.strptime(str(hora_str), '%I:%M:%S')\n",
    "    if turno == 'PM' and hora_dt.hour != 12:\n",
    "        hora_dt += timedelta(hours=12)\n",
    "    elif turno == 'AM' and hora_dt.hour == 12:\n",
    "        hora_dt -= timedelta(hours=12)\n",
    "    return hora_dt.strftime('%H:%M:%S')\n",
    "\n",
    "# 3. Aplicar función fila por fila\n",
    "df['HORA_MILITAR'] = df.apply(lambda row: convertir_a_militar(row['SOLO_HORA'], row['TURNO']), axis=1)\n"
   ]
  },
  {
   "cell_type": "code",
   "execution_count": 25,
   "id": "d5a127d3",
   "metadata": {},
   "outputs": [],
   "source": [
    "df.drop(columns=['HORA OCURRENCIA','TURNO','SOLO_HORA'], inplace=True)"
   ]
  },
  {
   "cell_type": "code",
   "execution_count": 26,
   "id": "facecea4",
   "metadata": {},
   "outputs": [
    {
     "data": {
      "text/html": [
       "<div>\n",
       "<style scoped>\n",
       "    .dataframe tbody tr th:only-of-type {\n",
       "        vertical-align: middle;\n",
       "    }\n",
       "\n",
       "    .dataframe tbody tr th {\n",
       "        vertical-align: top;\n",
       "    }\n",
       "\n",
       "    .dataframe thead th {\n",
       "        text-align: right;\n",
       "    }\n",
       "</style>\n",
       "<table border=\"1\" class=\"dataframe\">\n",
       "  <thead>\n",
       "    <tr style=\"text-align: right;\">\n",
       "      <th></th>\n",
       "      <th>CLASE DE ACCIDENTE</th>\n",
       "      <th>GRAVEDAD</th>\n",
       "      <th>VIAS</th>\n",
       "      <th>CORREGIMIENTO</th>\n",
       "      <th>DÍA SEMANA</th>\n",
       "      <th>FECHA DE OCURRECIA</th>\n",
       "      <th>TIPO_DIA</th>\n",
       "      <th>HORA_MILITAR</th>\n",
       "    </tr>\n",
       "  </thead>\n",
       "  <tbody>\n",
       "    <tr>\n",
       "      <th>0</th>\n",
       "      <td>CHOQUE</td>\n",
       "      <td>DAÑOS</td>\n",
       "      <td>CALI-CANDELARIA</td>\n",
       "      <td>VILLAGORGONA</td>\n",
       "      <td>VIERNES</td>\n",
       "      <td>2021-01-01</td>\n",
       "      <td>Entre semana</td>\n",
       "      <td>01:40:00</td>\n",
       "    </tr>\n",
       "    <tr>\n",
       "      <th>1</th>\n",
       "      <td>CHOQUE</td>\n",
       "      <td>MUERTOS</td>\n",
       "      <td>CALI-CANDELARIA</td>\n",
       "      <td>JUANCHITO</td>\n",
       "      <td>VIERNES</td>\n",
       "      <td>2021-01-01</td>\n",
       "      <td>Entre semana</td>\n",
       "      <td>15:00:00</td>\n",
       "    </tr>\n",
       "    <tr>\n",
       "      <th>2</th>\n",
       "      <td>CHOQUE</td>\n",
       "      <td>DAÑOS</td>\n",
       "      <td>CALI-CANDELARIA</td>\n",
       "      <td>JUANCHITO</td>\n",
       "      <td>DOMINGO</td>\n",
       "      <td>2021-01-03</td>\n",
       "      <td>Fin de semana</td>\n",
       "      <td>17:08:00</td>\n",
       "    </tr>\n",
       "    <tr>\n",
       "      <th>3</th>\n",
       "      <td>CHOQUE</td>\n",
       "      <td>DAÑOS</td>\n",
       "      <td>CALI-CANDELARIA</td>\n",
       "      <td>VILLAGORGONA</td>\n",
       "      <td>DOMINGO</td>\n",
       "      <td>2021-01-03</td>\n",
       "      <td>Fin de semana</td>\n",
       "      <td>12:45:00</td>\n",
       "    </tr>\n",
       "    <tr>\n",
       "      <th>4</th>\n",
       "      <td>CHOQUE</td>\n",
       "      <td>DAÑOS</td>\n",
       "      <td>CALI-CANDELARIA</td>\n",
       "      <td>EL CARMELO</td>\n",
       "      <td>DOMINGO</td>\n",
       "      <td>2021-01-03</td>\n",
       "      <td>Fin de semana</td>\n",
       "      <td>07:00:00</td>\n",
       "    </tr>\n",
       "    <tr>\n",
       "      <th>5</th>\n",
       "      <td>CHOQUE</td>\n",
       "      <td>HERIDOS</td>\n",
       "      <td>VILLARICA-PALMIRA</td>\n",
       "      <td>EL LAURO</td>\n",
       "      <td>LUNES</td>\n",
       "      <td>2021-01-04</td>\n",
       "      <td>Entre semana</td>\n",
       "      <td>11:20:00</td>\n",
       "    </tr>\n",
       "    <tr>\n",
       "      <th>6</th>\n",
       "      <td>CHOQUE</td>\n",
       "      <td>DAÑOS</td>\n",
       "      <td>CALI-CANDELARIA</td>\n",
       "      <td>LA REGINA</td>\n",
       "      <td>MARTES</td>\n",
       "      <td>2021-01-05</td>\n",
       "      <td>Entre semana</td>\n",
       "      <td>20:10:00</td>\n",
       "    </tr>\n",
       "    <tr>\n",
       "      <th>7</th>\n",
       "      <td>CHOQUE</td>\n",
       "      <td>HERIDOS</td>\n",
       "      <td>CALI-CANDELARIA</td>\n",
       "      <td>CANDELARIA</td>\n",
       "      <td>MIERCOLES</td>\n",
       "      <td>2021-01-06</td>\n",
       "      <td>Entre semana</td>\n",
       "      <td>14:50:00</td>\n",
       "    </tr>\n",
       "    <tr>\n",
       "      <th>8</th>\n",
       "      <td>CHOQUE</td>\n",
       "      <td>DAÑOS</td>\n",
       "      <td>CALI-CANDELARIA</td>\n",
       "      <td>VILLAGORGONA</td>\n",
       "      <td>JUEVES</td>\n",
       "      <td>2021-01-07</td>\n",
       "      <td>Entre semana</td>\n",
       "      <td>15:00:00</td>\n",
       "    </tr>\n",
       "    <tr>\n",
       "      <th>9</th>\n",
       "      <td>CHOQUE</td>\n",
       "      <td>HERIDOS</td>\n",
       "      <td>CALI-CANDELARIA</td>\n",
       "      <td>EL CARMELO</td>\n",
       "      <td>JUEVES</td>\n",
       "      <td>2021-01-07</td>\n",
       "      <td>Entre semana</td>\n",
       "      <td>15:50:00</td>\n",
       "    </tr>\n",
       "    <tr>\n",
       "      <th>10</th>\n",
       "      <td>CHOQUE</td>\n",
       "      <td>HERIDOS</td>\n",
       "      <td>CALI-CANDELARIA</td>\n",
       "      <td>LA REGINA</td>\n",
       "      <td>JUEVES</td>\n",
       "      <td>2021-01-07</td>\n",
       "      <td>Entre semana</td>\n",
       "      <td>19:00:00</td>\n",
       "    </tr>\n",
       "    <tr>\n",
       "      <th>11</th>\n",
       "      <td>OTRO</td>\n",
       "      <td>HERIDOS</td>\n",
       "      <td>PALMIRA-VILLA RICA</td>\n",
       "      <td>EL CABUYAL</td>\n",
       "      <td>VIERNES</td>\n",
       "      <td>2021-01-08</td>\n",
       "      <td>Entre semana</td>\n",
       "      <td>15:00:00</td>\n",
       "    </tr>\n",
       "    <tr>\n",
       "      <th>12</th>\n",
       "      <td>VOLCAMIENTO</td>\n",
       "      <td>DAÑOS</td>\n",
       "      <td>PALMIRA-VILLA RICA</td>\n",
       "      <td>CANDELARIA</td>\n",
       "      <td>LUNES</td>\n",
       "      <td>2021-01-11</td>\n",
       "      <td>Entre semana</td>\n",
       "      <td>12:30:00</td>\n",
       "    </tr>\n",
       "    <tr>\n",
       "      <th>13</th>\n",
       "      <td>CHOQUE</td>\n",
       "      <td>HERIDOS</td>\n",
       "      <td>VILLARICA-PALMIRA</td>\n",
       "      <td>EL LAURO</td>\n",
       "      <td>MIERCOLES</td>\n",
       "      <td>2021-01-13</td>\n",
       "      <td>Entre semana</td>\n",
       "      <td>05:30:00</td>\n",
       "    </tr>\n",
       "    <tr>\n",
       "      <th>14</th>\n",
       "      <td>CHOQUE</td>\n",
       "      <td>DAÑOS</td>\n",
       "      <td>CALI-CANDELARIA</td>\n",
       "      <td>VILLAGORGONA</td>\n",
       "      <td>JUEVES</td>\n",
       "      <td>2021-01-14</td>\n",
       "      <td>Entre semana</td>\n",
       "      <td>12:50:00</td>\n",
       "    </tr>\n",
       "    <tr>\n",
       "      <th>15</th>\n",
       "      <td>CHOQUE</td>\n",
       "      <td>DAÑOS</td>\n",
       "      <td>CALI-CANDELARIA</td>\n",
       "      <td>VILLAGORGONA</td>\n",
       "      <td>VIERNES</td>\n",
       "      <td>2021-01-15</td>\n",
       "      <td>Entre semana</td>\n",
       "      <td>01:45:00</td>\n",
       "    </tr>\n",
       "    <tr>\n",
       "      <th>16</th>\n",
       "      <td>CHOQUE</td>\n",
       "      <td>DAÑOS</td>\n",
       "      <td>CANDELARIA</td>\n",
       "      <td>CANDELARIA</td>\n",
       "      <td>SABADO</td>\n",
       "      <td>2021-01-16</td>\n",
       "      <td>Fin de semana</td>\n",
       "      <td>13:30:00</td>\n",
       "    </tr>\n",
       "    <tr>\n",
       "      <th>17</th>\n",
       "      <td>CHOQUE</td>\n",
       "      <td>DAÑOS</td>\n",
       "      <td>CALI-CANDELARIA</td>\n",
       "      <td>JUANCHITO</td>\n",
       "      <td>SABADO</td>\n",
       "      <td>2021-01-16</td>\n",
       "      <td>Fin de semana</td>\n",
       "      <td>13:13:00</td>\n",
       "    </tr>\n",
       "    <tr>\n",
       "      <th>18</th>\n",
       "      <td>CHOQUE</td>\n",
       "      <td>HERIDOS</td>\n",
       "      <td>VILLARICA-PALMIRA</td>\n",
       "      <td>TURIN</td>\n",
       "      <td>SABADO</td>\n",
       "      <td>2021-01-16</td>\n",
       "      <td>Fin de semana</td>\n",
       "      <td>04:20:00</td>\n",
       "    </tr>\n",
       "    <tr>\n",
       "      <th>19</th>\n",
       "      <td>CHOQUE</td>\n",
       "      <td>DAÑOS</td>\n",
       "      <td>VILLARICA-PALMIRA</td>\n",
       "      <td>EL LAURO</td>\n",
       "      <td>SABADO</td>\n",
       "      <td>2021-01-16</td>\n",
       "      <td>Fin de semana</td>\n",
       "      <td>05:50:00</td>\n",
       "    </tr>\n",
       "  </tbody>\n",
       "</table>\n",
       "</div>"
      ],
      "text/plain": [
       "   CLASE DE ACCIDENTE GRAVEDAD                VIAS CORREGIMIENTO DÍA SEMANA  \\\n",
       "0              CHOQUE    DAÑOS     CALI-CANDELARIA  VILLAGORGONA    VIERNES   \n",
       "1              CHOQUE  MUERTOS     CALI-CANDELARIA     JUANCHITO    VIERNES   \n",
       "2              CHOQUE    DAÑOS     CALI-CANDELARIA     JUANCHITO    DOMINGO   \n",
       "3              CHOQUE    DAÑOS     CALI-CANDELARIA  VILLAGORGONA    DOMINGO   \n",
       "4              CHOQUE    DAÑOS     CALI-CANDELARIA    EL CARMELO    DOMINGO   \n",
       "5              CHOQUE  HERIDOS   VILLARICA-PALMIRA      EL LAURO      LUNES   \n",
       "6              CHOQUE    DAÑOS     CALI-CANDELARIA     LA REGINA     MARTES   \n",
       "7              CHOQUE  HERIDOS     CALI-CANDELARIA    CANDELARIA  MIERCOLES   \n",
       "8              CHOQUE    DAÑOS     CALI-CANDELARIA  VILLAGORGONA     JUEVES   \n",
       "9              CHOQUE  HERIDOS     CALI-CANDELARIA    EL CARMELO     JUEVES   \n",
       "10             CHOQUE  HERIDOS     CALI-CANDELARIA     LA REGINA     JUEVES   \n",
       "11               OTRO  HERIDOS  PALMIRA-VILLA RICA    EL CABUYAL    VIERNES   \n",
       "12        VOLCAMIENTO    DAÑOS  PALMIRA-VILLA RICA    CANDELARIA      LUNES   \n",
       "13             CHOQUE  HERIDOS   VILLARICA-PALMIRA      EL LAURO  MIERCOLES   \n",
       "14             CHOQUE    DAÑOS     CALI-CANDELARIA  VILLAGORGONA     JUEVES   \n",
       "15             CHOQUE    DAÑOS     CALI-CANDELARIA  VILLAGORGONA    VIERNES   \n",
       "16             CHOQUE    DAÑOS          CANDELARIA    CANDELARIA     SABADO   \n",
       "17             CHOQUE    DAÑOS     CALI-CANDELARIA     JUANCHITO     SABADO   \n",
       "18             CHOQUE  HERIDOS   VILLARICA-PALMIRA         TURIN     SABADO   \n",
       "19             CHOQUE    DAÑOS   VILLARICA-PALMIRA      EL LAURO     SABADO   \n",
       "\n",
       "   FECHA DE OCURRECIA       TIPO_DIA HORA_MILITAR  \n",
       "0          2021-01-01   Entre semana     01:40:00  \n",
       "1          2021-01-01   Entre semana     15:00:00  \n",
       "2          2021-01-03  Fin de semana     17:08:00  \n",
       "3          2021-01-03  Fin de semana     12:45:00  \n",
       "4          2021-01-03  Fin de semana     07:00:00  \n",
       "5          2021-01-04   Entre semana     11:20:00  \n",
       "6          2021-01-05   Entre semana     20:10:00  \n",
       "7          2021-01-06   Entre semana     14:50:00  \n",
       "8          2021-01-07   Entre semana     15:00:00  \n",
       "9          2021-01-07   Entre semana     15:50:00  \n",
       "10         2021-01-07   Entre semana     19:00:00  \n",
       "11         2021-01-08   Entre semana     15:00:00  \n",
       "12         2021-01-11   Entre semana     12:30:00  \n",
       "13         2021-01-13   Entre semana     05:30:00  \n",
       "14         2021-01-14   Entre semana     12:50:00  \n",
       "15         2021-01-15   Entre semana     01:45:00  \n",
       "16         2021-01-16  Fin de semana     13:30:00  \n",
       "17         2021-01-16  Fin de semana     13:13:00  \n",
       "18         2021-01-16  Fin de semana     04:20:00  \n",
       "19         2021-01-16  Fin de semana     05:50:00  "
      ]
     },
     "execution_count": 26,
     "metadata": {},
     "output_type": "execute_result"
    }
   ],
   "source": [
    "df.head(20)\n"
   ]
  },
  {
   "cell_type": "code",
   "execution_count": 27,
   "id": "538a4cb3",
   "metadata": {},
   "outputs": [],
   "source": [
    "df.rename(columns={'HORA_MILITAR': 'HORA_OCURRENCIA'}, inplace=True)\n",
    "df.rename(columns={'DÍA SEMANA': 'DÍA_SEMANA'}, inplace=True)\n",
    "df.rename(columns={'FECHA DE OCURRECIA': 'FECHA_DE_OCURRENCIA'}, inplace=True)\n",
    "df.rename(columns={'CLASE DE ACCIDENTE': 'CLASE_DE_ACCIDENTE'}, inplace=True)"
   ]
  },
  {
   "cell_type": "code",
   "execution_count": 28,
   "id": "a9115b3b",
   "metadata": {},
   "outputs": [
    {
     "data": {
      "text/html": [
       "<div>\n",
       "<style scoped>\n",
       "    .dataframe tbody tr th:only-of-type {\n",
       "        vertical-align: middle;\n",
       "    }\n",
       "\n",
       "    .dataframe tbody tr th {\n",
       "        vertical-align: top;\n",
       "    }\n",
       "\n",
       "    .dataframe thead th {\n",
       "        text-align: right;\n",
       "    }\n",
       "</style>\n",
       "<table border=\"1\" class=\"dataframe\">\n",
       "  <thead>\n",
       "    <tr style=\"text-align: right;\">\n",
       "      <th></th>\n",
       "      <th>CLASE_DE_ACCIDENTE</th>\n",
       "      <th>GRAVEDAD</th>\n",
       "      <th>VIAS</th>\n",
       "      <th>CORREGIMIENTO</th>\n",
       "      <th>DÍA_SEMANA</th>\n",
       "      <th>FECHA_DE_OCURRENCIA</th>\n",
       "      <th>TIPO_DIA</th>\n",
       "      <th>HORA_OCURRENCIA</th>\n",
       "    </tr>\n",
       "  </thead>\n",
       "  <tbody>\n",
       "    <tr>\n",
       "      <th>0</th>\n",
       "      <td>CHOQUE</td>\n",
       "      <td>DAÑOS</td>\n",
       "      <td>CALI-CANDELARIA</td>\n",
       "      <td>VILLAGORGONA</td>\n",
       "      <td>VIERNES</td>\n",
       "      <td>2021-01-01</td>\n",
       "      <td>Entre semana</td>\n",
       "      <td>01:40:00</td>\n",
       "    </tr>\n",
       "    <tr>\n",
       "      <th>1</th>\n",
       "      <td>CHOQUE</td>\n",
       "      <td>MUERTOS</td>\n",
       "      <td>CALI-CANDELARIA</td>\n",
       "      <td>JUANCHITO</td>\n",
       "      <td>VIERNES</td>\n",
       "      <td>2021-01-01</td>\n",
       "      <td>Entre semana</td>\n",
       "      <td>15:00:00</td>\n",
       "    </tr>\n",
       "    <tr>\n",
       "      <th>2</th>\n",
       "      <td>CHOQUE</td>\n",
       "      <td>DAÑOS</td>\n",
       "      <td>CALI-CANDELARIA</td>\n",
       "      <td>JUANCHITO</td>\n",
       "      <td>DOMINGO</td>\n",
       "      <td>2021-01-03</td>\n",
       "      <td>Fin de semana</td>\n",
       "      <td>17:08:00</td>\n",
       "    </tr>\n",
       "    <tr>\n",
       "      <th>3</th>\n",
       "      <td>CHOQUE</td>\n",
       "      <td>DAÑOS</td>\n",
       "      <td>CALI-CANDELARIA</td>\n",
       "      <td>VILLAGORGONA</td>\n",
       "      <td>DOMINGO</td>\n",
       "      <td>2021-01-03</td>\n",
       "      <td>Fin de semana</td>\n",
       "      <td>12:45:00</td>\n",
       "    </tr>\n",
       "    <tr>\n",
       "      <th>4</th>\n",
       "      <td>CHOQUE</td>\n",
       "      <td>DAÑOS</td>\n",
       "      <td>CALI-CANDELARIA</td>\n",
       "      <td>EL CARMELO</td>\n",
       "      <td>DOMINGO</td>\n",
       "      <td>2021-01-03</td>\n",
       "      <td>Fin de semana</td>\n",
       "      <td>07:00:00</td>\n",
       "    </tr>\n",
       "  </tbody>\n",
       "</table>\n",
       "</div>"
      ],
      "text/plain": [
       "  CLASE_DE_ACCIDENTE GRAVEDAD             VIAS CORREGIMIENTO DÍA_SEMANA  \\\n",
       "0             CHOQUE    DAÑOS  CALI-CANDELARIA  VILLAGORGONA    VIERNES   \n",
       "1             CHOQUE  MUERTOS  CALI-CANDELARIA     JUANCHITO    VIERNES   \n",
       "2             CHOQUE    DAÑOS  CALI-CANDELARIA     JUANCHITO    DOMINGO   \n",
       "3             CHOQUE    DAÑOS  CALI-CANDELARIA  VILLAGORGONA    DOMINGO   \n",
       "4             CHOQUE    DAÑOS  CALI-CANDELARIA    EL CARMELO    DOMINGO   \n",
       "\n",
       "  FECHA_DE_OCURRENCIA       TIPO_DIA HORA_OCURRENCIA  \n",
       "0          2021-01-01   Entre semana        01:40:00  \n",
       "1          2021-01-01   Entre semana        15:00:00  \n",
       "2          2021-01-03  Fin de semana        17:08:00  \n",
       "3          2021-01-03  Fin de semana        12:45:00  \n",
       "4          2021-01-03  Fin de semana        07:00:00  "
      ]
     },
     "execution_count": 28,
     "metadata": {},
     "output_type": "execute_result"
    }
   ],
   "source": [
    "df.head()"
   ]
  },
  {
   "cell_type": "code",
   "execution_count": 29,
   "id": "31fea117",
   "metadata": {},
   "outputs": [
    {
     "name": "stdout",
     "output_type": "stream",
     "text": [
      "<class 'pandas.core.frame.DataFrame'>\n",
      "Index: 998 entries, 0 to 1003\n",
      "Data columns (total 8 columns):\n",
      " #   Column               Non-Null Count  Dtype         \n",
      "---  ------               --------------  -----         \n",
      " 0   CLASE_DE_ACCIDENTE   998 non-null    object        \n",
      " 1   GRAVEDAD             998 non-null    object        \n",
      " 2   VIAS                 998 non-null    object        \n",
      " 3   CORREGIMIENTO        998 non-null    object        \n",
      " 4   DÍA_SEMANA           998 non-null    object        \n",
      " 5   FECHA_DE_OCURRENCIA  998 non-null    datetime64[ns]\n",
      " 6   TIPO_DIA             998 non-null    object        \n",
      " 7   HORA_OCURRENCIA      985 non-null    object        \n",
      "dtypes: datetime64[ns](1), object(7)\n",
      "memory usage: 70.2+ KB\n"
     ]
    }
   ],
   "source": [
    "#nos da la informacion sobre el dataset leido\n",
    "df.info()"
   ]
  },
  {
   "cell_type": "code",
   "execution_count": null,
   "id": "92478e5b",
   "metadata": {},
   "outputs": [],
   "source": [
    "#exportar archivo\n",
    "df.to_csv('Accidentalidad_candelaria.csv', index=False, encoding='utf-8')"
   ]
  },
  {
   "cell_type": "code",
   "execution_count": 30,
   "id": "cf943d8d",
   "metadata": {},
   "outputs": [],
   "source": [
    "import pandas as pd\n",
    "import matplotlib.pyplot as plt\n",
    "\n",
    "# Agrupar por corregimiento y tipo de día\n",
    "comparativa = df.groupby(['CORREGIMIENTO', 'TIPO_DIA']).size().unstack(fill_value=0)\n",
    "\n",
    "# Renombrar columnas \n",
    "comparativa.columns = ['Accidentes entre semana', 'Accidentes fin de semana']\n",
    "\n",
    "# Ordenar por total de accidentes\n",
    "comparativa['Total'] = comparativa.sum(axis=1)\n",
    "comparativa = comparativa.sort_values('Total', ascending=False)\n",
    "\n",
    "# Opcional: Limitar a los 10 corregimientos con más accidentes\n",
    "comparativa_top = comparativa.head(10)"
   ]
  },
  {
   "cell_type": "code",
   "execution_count": 31,
   "id": "3a7737b5",
   "metadata": {},
   "outputs": [
    {
     "data": {
      "image/png": "[encoded data removed]",
      "text/plain": [
       "<Figure size 1200x600 with 1 Axes>"
      ]
     },
     "metadata": {},
     "output_type": "display_data"
    }
   ],
   "source": [
    "# Gráfico de barras comparativas\n",
    "comparativa_top[['Accidentes entre semana', 'Accidentes fin de semana']].plot(\n",
    "    kind='bar',\n",
    "    figsize=(12, 6),\n",
    "    color=['skyblue', 'lightcoral']\n",
    ")\n",
    "\n",
    "plt.title('Comparativa de Accidentes por Corregimiento')\n",
    "plt.xlabel('Corregimiento')\n",
    "plt.ylabel('Número de Accidentes')\n",
    "plt.xticks(rotation=45, ha='right')\n",
    "plt.legend(title='Tipo de Día')\n",
    "plt.tight_layout()\n",
    "plt.grid(axis='y')\n",
    "plt.show()\n"
   ]
  },
  {
   "cell_type": "code",
   "execution_count": 33,
   "id": "d3d2851c",
   "metadata": {},
   "outputs": [
    {
     "name": "stderr",
     "output_type": "stream",
     "text": [
      "C:\\Users\\Katerine\\AppData\\Local\\Temp\\ipykernel_6980\\2729056477.py:8: FutureWarning: \n",
      "\n",
      "Passing `palette` without assigning `hue` is deprecated and will be removed in v0.14.0. Assign the `x` variable to `hue` and set `legend=False` for the same effect.\n",
      "\n",
      "  sns.barplot(x=gravedad_counts.index, y=gravedad_counts.values, palette='Set2')\n"
     ]
    },
    {
     "data": {
      "image/png": "[encoded data removed]",
      "text/plain": [
       "<Figure size 800x500 with 1 Axes>"
      ]
     },
     "metadata": {},
     "output_type": "display_data"
    }
   ],
   "source": [
    "import seaborn as sns\n",
    "\n",
    "# Conteo de accidentes por gravedad\n",
    "gravedad_counts = df['GRAVEDAD'].value_counts()\n",
    "\n",
    "# Gráfica\n",
    "plt.figure(figsize=(8, 5))\n",
    "sns.barplot(x=gravedad_counts.index, y=gravedad_counts.values, palette='Set2')\n",
    "\n",
    "plt.title('Cantidad de Accidentes por Gravedad')\n",
    "plt.xlabel('Gravedad del Accidente')\n",
    "plt.ylabel('Número de Accidentes')\n",
    "plt.xticks(rotation=45)\n",
    "plt.grid(axis='y')\n",
    "plt.tight_layout()\n",
    "plt.show()"
   ]
  },
  {
   "cell_type": "code",
   "execution_count": 34,
   "id": "d495c143",
   "metadata": {},
   "outputs": [
    {
     "name": "stderr",
     "output_type": "stream",
     "text": [
      "C:\\Users\\Katerine\\AppData\\Local\\Temp\\ipykernel_6980\\3988450245.py:8: FutureWarning: 'M' is deprecated and will be removed in a future version, please use 'ME' instead.\n",
      "  tendencia_mensual = df.resample('M', on='FECHA_DE_OCURRENCIA').size()\n"
     ]
    },
    {
     "data": {
      "image/png": "[encoded data removed]",
      "text/plain": [
       "<Figure size 1000x500 with 1 Axes>"
      ]
     },
     "metadata": {},
     "output_type": "display_data"
    }
   ],
   "source": [
    "import pandas as pd\n",
    "import matplotlib.pyplot as plt\n",
    "\n",
    "\n",
    "df['FECHA_DE_OCURRENCIA'] = pd.to_datetime(df['FECHA_DE_OCURRENCIA'])\n",
    "\n",
    "# Agrupar por mes y contar accidentes\n",
    "tendencia_mensual = df.resample('M', on='FECHA_DE_OCURRENCIA').size()\n",
    "\n",
    "# Gráfica de línea\n",
    "plt.figure(figsize=(10, 5))\n",
    "plt.plot(tendencia_mensual.index, tendencia_mensual.values, marker='o', linestyle='-', color='darkblue')\n",
    "\n",
    "plt.title('Tendencia Mensual de Accidentes')\n",
    "plt.xlabel('Fecha')\n",
    "plt.ylabel('Número de Accidentes')\n",
    "plt.grid(True)\n",
    "plt.tight_layout()\n",
    "plt.show()\n"
   ]
  }
 ],
 "metadata": {
  "kernelspec": {
   "display_name": "base",
   "language": "python",
   "name": "python3"
  },
  "language_info": {
   "codemirror_mode": {
    "name": "ipython",
    "version": 3
   },
   "file_extension": ".py",
   "mimetype": "text/x-python",
   "name": "python",
   "nbconvert_exporter": "python",
   "pygments_lexer": "ipython3",
   "version": "3.12.7"
  }
 },
 "nbformat": 4,
 "nbformat_minor": 5
}
